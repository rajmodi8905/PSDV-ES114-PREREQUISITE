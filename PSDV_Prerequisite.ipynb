{
 "cells": [
  {
   "cell_type": "markdown",
   "id": "3cefb707-b9d5-4def-a9de-b60d7bbf0c4d",
   "metadata": {},
   "source": [
    "## RAJ MODI 24110282 (PSDV Prerequisite Test)"
   ]
  },
  {
   "cell_type": "markdown",
   "id": "60dfdde2-208e-4f5d-807a-379b1454f085",
   "metadata": {},
   "source": [
    "**Q1 List Operations and Basic Statistics:**"
   ]
  },
  {
   "cell_type": "code",
   "execution_count": 405,
   "id": "a06a2c7f-189c-41c0-829f-b264021e5fda",
   "metadata": {
    "scrolled": true
   },
   "outputs": [
    {
     "name": "stdout",
     "output_type": "stream",
     "text": [
      "[1, 2, 3, 4, 5, 6, 7, 8, 9, 10, 11, 12, 13, 14, 15, 16, 17, 18, 19, 20]\n"
     ]
    }
   ],
   "source": [
    "#Create a list of the first 20 natural numbers.\n",
    "x=[i for i in range(1,21)]\n",
    "print(x)"
   ]
  },
  {
   "cell_type": "code",
   "execution_count": 407,
   "id": "050c5391-3e83-4e5f-9e91-f4b37221fb2e",
   "metadata": {},
   "outputs": [
    {
     "name": "stdout",
     "output_type": "stream",
     "text": [
      "110\n"
     ]
    }
   ],
   "source": [
    "#Compute the sum of all even numbers in the list.\n",
    "s=0\n",
    "for i in range (0,len(x),2):\n",
    "    s+=x[i+1]\n",
    "print(s)"
   ]
  },
  {
   "cell_type": "code",
   "execution_count": 409,
   "id": "c6fb97c8-d8c1-455b-8a67-00de678c3e76",
   "metadata": {},
   "outputs": [
    {
     "name": "stdout",
     "output_type": "stream",
     "text": [
      "654729075\n"
     ]
    }
   ],
   "source": [
    "#Compute the product of all odd numbers in the list.\n",
    "s=1\n",
    "for i in range (0,len(x),2):\n",
    "    s*=x[i]\n",
    "print(s)\n"
   ]
  },
  {
   "cell_type": "code",
   "execution_count": 415,
   "id": "62901ef4-0d74-4391-9b9b-d0ff49898c1b",
   "metadata": {},
   "outputs": [
    {
     "name": "stdout",
     "output_type": "stream",
     "text": [
      "mean: 10.5\n",
      "median: 10.5\n",
      "standard deviation: 5.766281297335398\n"
     ]
    }
   ],
   "source": [
    "#Calculate the mean, median, and standard deviation of the list.\n",
    "import math \n",
    "import numpy as np \n",
    "\n",
    "mean = sum(x)/len(x)\n",
    "print(f\"mean: {mean}\")\n",
    "newx=np.array(x)\n",
    "print(f\"median: {np.median(newx)}\")\n",
    "print(f\"standard deviation: {newx.std()}\")"
   ]
  },
  {
   "cell_type": "markdown",
   "id": "7ec9f603-8b80-4ef5-9849-4ef23d768604",
   "metadata": {},
   "source": [
    "***Q2 Mutable vs. Immutable Data Types:Explain the difference between mutable and immutable data types in Python. Provide examples of each.***\n",
    "\n",
    "Mutable data types are those data types who can be changed once assigned a value.\n",
    "Example:lists and dictionary\n",
    "Immutable data types on the other hand cannot be changed once its assigned a value in memory. \n",
    "Example:tuples \n"
   ]
  },
  {
   "cell_type": "markdown",
   "id": "f7f67f1c-81e1-4e6c-8a4d-2f9b14d0f4df",
   "metadata": {},
   "source": [
    "***Q3 Fibonacci Sequence:***  "
   ]
  },
  {
   "cell_type": "code",
   "execution_count": 419,
   "id": "8702c2f2-ef5d-446e-a5e3-caca89676124",
   "metadata": {},
   "outputs": [
    {
     "name": "stdin",
     "output_type": "stream",
     "text": [
      "enter the number till which you want the sequence:  50\n"
     ]
    },
    {
     "name": "stdout",
     "output_type": "stream",
     "text": [
      "[0, 1, 1, 2, 3, 5, 8, 13, 21, 34, 55, 89, 144, 233, 377, 610, 987, 1597, 2584, 4181, 6765, 10946, 17711, 28657, 46368, 75025, 121393, 196418, 317811, 514229, 832040, 1346269, 2178309, 3524578, 5702887, 9227465, 14930352, 24157817, 39088169, 63245986, 102334155, 165580141, 267914296, 433494437, 701408733, 1134903170, 1836311903, 2971215073, 4807526976, 7778742049]\n"
     ]
    }
   ],
   "source": [
    "#Write a Python function that takes a number n and returns a list of the first n Fibonacci numbers.\n",
    "n=int(input(\"enter the number till which you want the sequence: \")) #I have taken example input as 10 \n",
    "n1=0\n",
    "n2=1\n",
    "temp=0\n",
    "ans=[0 for i in range(n)]\n",
    "for i in range(1,n):\n",
    "    ans[i]=n2\n",
    "    temp=n2\n",
    "    n2=n2+n1\n",
    "    n1=temp \n",
    "print(ans)"
   ]
  },
  {
   "cell_type": "code",
   "execution_count": 421,
   "id": "de3bae2c-7d6d-42cf-b2b5-28775896fb9c",
   "metadata": {},
   "outputs": [
    {
     "data": {
      "image/png": "[encoded data removed]",
      "text/plain": [
       "<Figure size 640x480 with 1 Axes>"
      ]
     },
     "metadata": {},
     "output_type": "display_data"
    }
   ],
   "source": [
    "#Plot the Fibonacci sequence using a line graph.\n",
    "import matplotlib.pyplot as plt\n",
    "\n",
    "\n",
    "plt.plot(ans,\"bo-\")\n",
    "plt.show()\n"
   ]
  },
  {
   "cell_type": "markdown",
   "id": "c11ddbc2-8ecc-45c6-bf0b-0962a13fd1ea",
   "metadata": {},
   "source": [
    "***Q4 List Manipulation:***  \n",
    "Given a list [3, 5, 7, 9, 11, 13]"
   ]
  },
  {
   "cell_type": "code",
   "execution_count": 424,
   "id": "8201a636-3519-4f23-bd7b-217865254742",
   "metadata": {},
   "outputs": [
    {
     "name": "stdout",
     "output_type": "stream",
     "text": [
      "[3, 5, 7, 6, 9, 11, 13]\n"
     ]
    }
   ],
   "source": [
    "#Insert 6 at the 3rd index.\n",
    "l=[3, 5, 7, 9, 11, 13]\n",
    "l.insert(3,6)\n",
    "print(l)"
   ]
  },
  {
   "cell_type": "code",
   "execution_count": 426,
   "id": "c16797c8-2d61-45a6-a889-17a1a1cd0dc4",
   "metadata": {},
   "outputs": [
    {
     "name": "stdout",
     "output_type": "stream",
     "text": [
      "[3, 5, 6, 9, 11, 13]\n"
     ]
    }
   ],
   "source": [
    "# Remove the number 7 from the list.\n",
    "k=l.pop(2)\n",
    "print(l)"
   ]
  },
  {
   "cell_type": "code",
   "execution_count": 428,
   "id": "ad0c222f-656f-45c9-bf44-5736584fb95c",
   "metadata": {},
   "outputs": [
    {
     "name": "stdout",
     "output_type": "stream",
     "text": [
      "[13, 11, 9, 6, 5, 3]\n"
     ]
    }
   ],
   "source": [
    "# Reverse the list.\n",
    "l.sort(reverse=True)\n",
    "print(l)"
   ]
  },
  {
   "cell_type": "code",
   "execution_count": 430,
   "id": "0ac32350-10f0-4f22-a62a-fd009060ed7f",
   "metadata": {},
   "outputs": [
    {
     "name": "stdout",
     "output_type": "stream",
     "text": [
      "mean: 7.833333333333333\n",
      "median: 7.5\n"
     ]
    }
   ],
   "source": [
    "# Calculate the mean and median of the modified list.\n",
    "import numpy as np \n",
    "newl=np.array(l)\n",
    "print(f\"mean: {sum(l)/len(l)}\")\n",
    "print(f\"median: {np.median(newl)}\")\n",
    "\n"
   ]
  },
  {
   "cell_type": "markdown",
   "id": "38a2040b-c368-4a1f-ab4f-e3e333856678",
   "metadata": {},
   "source": [
    "***Q5 User Input and Basic Statistics***  \n"
   ]
  },
  {
   "cell_type": "code",
   "execution_count": 433,
   "id": "8646c8bc-d942-4bba-83bc-825cb6bfef83",
   "metadata": {},
   "outputs": [
    {
     "name": "stdout",
     "output_type": "stream",
     "text": [
      "[10, 20, 30, 40, 10, 40, 60, 70, 90, 40, 60, 30, 20]\n"
     ]
    }
   ],
   "source": [
    "# Write a program to read a comma-separated list of numbers from the user (e.g., “10, 20, 30, 40”).\n",
    "s= \"10,20,30,40,10,40,60,70,90,40,60,30,20\"\n",
    "l=list(map(int,s.split(\",\")))\n",
    "print(l)"
   ]
  },
  {
   "cell_type": "code",
   "execution_count": 435,
   "id": "623d7fc2-b914-4f97-b0fa-6e36c7f2c077",
   "metadata": {},
   "outputs": [
    {
     "name": "stdout",
     "output_type": "stream",
     "text": [
      "mean: 40.0\n"
     ]
    }
   ],
   "source": [
    "#Calculate the mean of the numbers.\n",
    "print(f\"mean: {sum(l)/len(l)}\")"
   ]
  },
  {
   "cell_type": "code",
   "execution_count": 437,
   "id": "8d181270-1354-4947-999b-1236374f5ed0",
   "metadata": {},
   "outputs": [
    {
     "name": "stdout",
     "output_type": "stream",
     "text": [
      "smallest: 10\n",
      "largest: 90\n"
     ]
    }
   ],
   "source": [
    "# Identify and print the smallest and largest number\n",
    "\n",
    "smallest=sorted(l)[0]\n",
    "largest=sorted(l,reverse=True)[0]\n",
    "print(f\"smallest: {smallest}\\nlargest: {largest}\")\n"
   ]
  },
  {
   "cell_type": "code",
   "execution_count": 439,
   "id": "457a1954-d478-49fc-8b67-e15667d48daa",
   "metadata": {},
   "outputs": [
    {
     "data": {
      "image/png": "[encoded data removed]",
      "text/plain": [
       "<Figure size 640x480 with 1 Axes>"
      ]
     },
     "metadata": {},
     "output_type": "display_data"
    }
   ],
   "source": [
    "# Plot a histogram of the numbers.\n",
    "\n",
    "plt.hist(l,edgecolor=\"red\",color=\"b\")\n",
    "plt.show()"
   ]
  },
  {
   "cell_type": "markdown",
   "id": "792e46c9-834e-43c3-a753-01984404f441",
   "metadata": {},
   "source": [
    "***Q6 Palindrome Check:***    \n",
    "Write a program to check if a string is a palindrome (ignoring spaces and case).  \n",
    "Input: \"A man a plan a canal Panama\"  \n",
    "Output: True"
   ]
  },
  {
   "cell_type": "code",
   "execution_count": 442,
   "id": "14281460-b90d-4673-aca5-fad29e5252f4",
   "metadata": {},
   "outputs": [
    {
     "name": "stdin",
     "output_type": "stream",
     "text": [
      " A man a plan a canal Panama\n"
     ]
    },
    {
     "name": "stdout",
     "output_type": "stream",
     "text": [
      "True\n"
     ]
    }
   ],
   "source": [
    "s=input().strip().lower() #I have taken the given example as the test case \"A man a plan a canal Panama\".\n",
    "news=\"\"\n",
    "for i in s.split():\n",
    "    news+=i\n",
    "if news==news[::-1]:\n",
    "    print(\"True\")\n",
    "else:\n",
    "    print(\"False\")"
   ]
  },
  {
   "cell_type": "markdown",
   "id": "6c2ac6c8-60c8-42df-8458-5a7e28737066",
   "metadata": {},
   "source": [
    "***Q7 Dictionary Operations***"
   ]
  },
  {
   "cell_type": "code",
   "execution_count": 445,
   "id": "2301b592-bf68-4e07-b035-aae87a7226e1",
   "metadata": {},
   "outputs": [
    {
     "name": "stdout",
     "output_type": "stream",
     "text": [
      "{'Aarav': 92, 'Anaya': 87, 'Ishaan': 95, 'Mira': 88, 'Vihaan': 79, 'Diya': 85, 'Kabir': 93, 'Riya': 91, 'Aryan': 89, 'Tara': 84}\n"
     ]
    }
   ],
   "source": [
    "# Create a dictionary of student names (keys) and their marks (values).\n",
    "import json \n",
    "with open(\"data.json\",\"r\") as f : #I have taken a example json file from internet for the values of marks and names\n",
    "    dic=json.load(f)\n",
    "print(dic)"
   ]
  },
  {
   "cell_type": "code",
   "execution_count": 447,
   "id": "13018aae-8d00-4b77-9344-294c652cc607",
   "metadata": {},
   "outputs": [
    {
     "name": "stdout",
     "output_type": "stream",
     "text": [
      "The average marks are: 88.3\n"
     ]
    }
   ],
   "source": [
    "# Compute the average marks.\n",
    "average = sum(dic.values()) / len(dic)\n",
    "print(f\"The average marks are: {average}\")"
   ]
  },
  {
   "cell_type": "code",
   "execution_count": 449,
   "id": "254f820a-ec8f-4356-acd2-889b62bedbfd",
   "metadata": {},
   "outputs": [
    {
     "name": "stdout",
     "output_type": "stream",
     "text": [
      "Aarav\n",
      "Ishaan\n",
      "Kabir\n",
      "Riya\n",
      "Aryan\n"
     ]
    }
   ],
   "source": [
    "# Print the names of students scoring above the average.\n",
    "for i in dic:\n",
    "    if dic[i]>average:\n",
    "        print(i)"
   ]
  },
  {
   "cell_type": "code",
   "execution_count": 451,
   "id": "e8bd66a4-ba06-49cc-941d-fe004f7bd5d9",
   "metadata": {},
   "outputs": [
    {
     "data": {
      "image/png": "[encoded data removed]",
      "text/plain": [
       "<Figure size 640x480 with 1 Axes>"
      ]
     },
     "metadata": {},
     "output_type": "display_data"
    }
   ],
   "source": [
    "# Visualize the distribution of marks using a bar chart.\n",
    "plt.bar(dic.keys(),dic.values(),color=\"blue\")\n",
    "plt.axhline(y=average,linestyle=\"-.\",color=\"red\",label=f\"Average {average}\")\n",
    "plt.legend()\n",
    "plt.show()"
   ]
  },
  {
   "cell_type": "markdown",
   "id": "b6606af6-b9d8-405b-91da-4fdfd3108b27",
   "metadata": {},
   "source": [
    "***Q8 Tuple List Creation***"
   ]
  },
  {
   "cell_type": "code",
   "execution_count": 454,
   "id": "749f9c9c-f97a-4d9e-ba44-81cc35156cb6",
   "metadata": {},
   "outputs": [
    {
     "name": "stdout",
     "output_type": "stream",
     "text": [
      "[(1, 1), (2, 4), (3, 9), (4, 16), (5, 25), (6, 36), (7, 49), (8, 64), (9, 81), (10, 100)]\n"
     ]
    }
   ],
   "source": [
    "# Create a list of tuples, where each tuple contains a number and its square (e.g., [(1, 1), (2, 4), (3, 9), ...] for numbers 1 to 10).\n",
    "l=[(i,i**2) for i in range(1,11)]\n",
    "print(l)"
   ]
  },
  {
   "cell_type": "code",
   "execution_count": 456,
   "id": "c9d7d3b1-903f-48a1-bceb-e2aa3c412967",
   "metadata": {},
   "outputs": [
    {
     "data": {
      "image/png": "[encoded data removed]",
      "text/plain": [
       "<Figure size 640x480 with 1 Axes>"
      ]
     },
     "metadata": {},
     "output_type": "display_data"
    }
   ],
   "source": [
    "# Plot the numbers and their squares on a scatter plot.\n",
    "\n",
    "plt.scatter([i[0] for i in l],[i[1] for i in l], marker=\"o\")\n",
    "plt.xlabel(\"Number\")\n",
    "plt.ylabel(\"Squares\")\n",
    "plt.show()"
   ]
  },
  {
   "cell_type": "markdown",
   "id": "5e765575-be0d-4546-9cf5-21b289a0c31c",
   "metadata": {},
   "source": [
    "***Q9 Merging Dictionaries:***"
   ]
  },
  {
   "cell_type": "code",
   "execution_count": 459,
   "id": "015dc8b9-b412-4c5e-924c-a29a8ad5f983",
   "metadata": {},
   "outputs": [
    {
     "name": "stdout",
     "output_type": "stream",
     "text": [
      "{'Aryan': 75, 'Diya': 100, 'Vihaan': 90, 'Tara': 100, 'Ishaan': 85, 'Anaya': 95}\n"
     ]
    }
   ],
   "source": [
    "# Write Python code to merge two dictionaries. If a key is present in both, sum their values.\n",
    "dict1 = {\n",
    "    \"Aryan\": 75,\n",
    "    \"Diya\": 88,\n",
    "    \"Vihaan\": 90,\n",
    "    \"Tara\": 82\n",
    "}\n",
    "\n",
    "dict2 = {\n",
    "    \"Diya\": 12,\n",
    "    \"Tara\": 18,\n",
    "    \"Ishaan\": 85,\n",
    "    \"Anaya\": 95\n",
    "}\n",
    "#took my own dictionaries \n",
    "\n",
    "ansdic={}\n",
    "\n",
    "for i in dict1:\n",
    "    if i in dict2:\n",
    "        ansdic[i]=dict1[i]+dict2[i]\n",
    "    else:\n",
    "        ansdic[i]=dict1[i]\n",
    "\n",
    "for i in dict2:\n",
    "    if i in dict1:\n",
    "        continue\n",
    "    else:\n",
    "        ansdic[i]=dict2[i]   \n",
    "print(ansdic)"
   ]
  },
  {
   "cell_type": "markdown",
   "id": "690711fc-9856-4901-b736-17d65982cf0c",
   "metadata": {},
   "source": [
    "***Q10 Character Frequency***"
   ]
  },
  {
   "cell_type": "code",
   "execution_count": 462,
   "id": "497beb94-20f5-45ef-a49e-a4d033c59dde",
   "metadata": {},
   "outputs": [
    {
     "name": "stdout",
     "output_type": "stream",
     "text": [
      "{'r': 1, 'a': 2, 'j': 1, 'm': 2, 'i': 2, 't': 1, 'o': 1, 'd': 1}\n"
     ]
    }
   ],
   "source": [
    "# Write a function that accepts a string and:\n",
    "# Converts all characters to lowercase.\n",
    "# Counts the frequency of each character.\n",
    "# Returns a dictionary with characters as keys and their counts as values.\n",
    "\n",
    "def charfreq(n):\n",
    "    n=n.lower()\n",
    "    dic={}\n",
    "    for i in n:\n",
    "        if i in dic:\n",
    "            dic[i]+=1\n",
    "        else:\n",
    "            dic[i]=1\n",
    "    return dic\n",
    "\n",
    "print(charfreq(\"rajamitmodi\"))"
   ]
  },
  {
   "cell_type": "code",
   "execution_count": 464,
   "id": "896b5138-7328-4184-a9a0-7e2591300357",
   "metadata": {},
   "outputs": [
    {
     "data": {
      "image/png": "[encoded data removed]",
      "text/plain": [
       "<Figure size 640x480 with 1 Axes>"
      ]
     },
     "metadata": {},
     "output_type": "display_data"
    }
   ],
   "source": [
    "# Visualize the character frequencies using a bar chart.\n",
    "\n",
    "plt.bar(charfreq(\"rajamitmodi\").keys(),charfreq(\"rajamitmodi\").values(),edgecolor=\"black\",color=\"yellow\")\n",
    "plt.ylabel(\"Frequency\")\n",
    "plt.xlabel(\"Characters\")\n",
    "plt.title(\"CHARACTER FREQUENCIES\")\n",
    "plt.show()"
   ]
  },
  {
   "cell_type": "markdown",
   "id": "74d97fd2-6b50-40c8-b541-dac8887e96f8",
   "metadata": {},
   "source": [
    "***Q11 Remove Duplicates:***\n"
   ]
  },
  {
   "cell_type": "code",
   "execution_count": 467,
   "id": "ccd6584a-fe49-4a26-aedb-4e62c7f974e7",
   "metadata": {},
   "outputs": [
    {
     "name": "stdout",
     "output_type": "stream",
     "text": [
      "[5, 3, 7, 8, 9, 10]\n"
     ]
    }
   ],
   "source": [
    "# Write a program to remove duplicate elements from a list while maintaining the order of elements.\n",
    "ex=[5, 3, 7, 5, 8, 3, 9, 7, 10]\n",
    "ans=[]\n",
    "for i in ex :\n",
    "    if i in ans :\n",
    "        continue\n",
    "    else:\n",
    "        ans.append(i)\n",
    "\n",
    "print(ans)\n"
   ]
  },
  {
   "cell_type": "code",
   "execution_count": 469,
   "id": "e367ae00-1c73-4a8e-83c8-497036007fa9",
   "metadata": {},
   "outputs": [
    {
     "name": "stdout",
     "output_type": "stream",
     "text": [
      "mean: 7.0\n",
      "median: 7.5\n"
     ]
    }
   ],
   "source": [
    "# Calculate the mean and median of the unique elements.\n",
    "import numpy as np\n",
    "print(f\"mean: {sum(ans)/len(ans)}\")\n",
    "print(f\"median: {np.median(ans)}\")"
   ]
  },
  {
   "cell_type": "markdown",
   "id": "56ee1f2c-3321-4890-a72a-c0ee95e33f99",
   "metadata": {},
   "source": [
    "***Q12 String Operations***"
   ]
  },
  {
   "cell_type": "code",
   "execution_count": 472,
   "id": "5062291c-ada0-475a-96e4-f1c81ed937fa",
   "metadata": {},
   "outputs": [
    {
     "name": "stdout",
     "output_type": "stream",
     "text": [
      "The longest string is: quickly\n",
      "5 strings start with a vowel\n"
     ]
    }
   ],
   "source": [
    "# Given a list of strings, write a Python function to\n",
    "# Find the longest string.\n",
    "# Count how many strings start with a vowel.\n",
    "sample_string=\"The dog ran fast, the dog ran quickly and the dog jumped high but the dog didn’t stop running running and jumping until it was very tired and ready to rest.\"\n",
    "k=sample_string.split() #sample input \n",
    "\n",
    "def longest(n):\n",
    "    maxvalue=0\n",
    "    ans=\"\"\n",
    "    for i in n:\n",
    "        if len(i)>maxvalue:\n",
    "            maxvalue=len(i)\n",
    "            ans=i\n",
    "    return ans\n",
    "\n",
    "def vowstart(n):\n",
    "    k=\"aeiou\"\n",
    "    c=0\n",
    "    for i in n:\n",
    "        if i[0] in k:\n",
    "            c+=1\n",
    "    return c\n",
    "\n",
    "\n",
    "print(f\"The longest string is: {longest(k)}\")\n",
    "print(f\"{vowstart(k)} strings start with a vowel\")\n",
    "\n",
    "            \n"
   ]
  },
  {
   "cell_type": "code",
   "execution_count": 474,
   "id": "8d7b0855-1fa2-4c70-a418-97e550d9ff32",
   "metadata": {},
   "outputs": [
    {
     "data": {
      "image/png": "[encoded data removed]",
      "text/plain": [
       "<Figure size 640x480 with 1 Axes>"
      ]
     },
     "metadata": {},
     "output_type": "display_data"
    }
   ],
   "source": [
    "# Visualize the distribution of string lengths using a histogram.\n",
    "string_lengths=[]\n",
    "\n",
    "for i in k:\n",
    "    string_lengths.append(len(i))  #now the list string lengths has lengths of all strings from our sample input\n",
    "\n",
    "plt.hist(string_lengths,edgecolor=\"black\",color=\"blue\")\n",
    "plt.show()\n",
    "\n",
    "\n"
   ]
  },
  {
   "cell_type": "markdown",
   "id": "845e9447-0deb-452e-883f-23f2009cdce4",
   "metadata": {},
   "source": [
    "***Q13 Sorting Dictionaries***"
   ]
  },
  {
   "cell_type": "code",
   "execution_count": 477,
   "id": "b263bd29-d6df-44c4-a9e2-76eb1124df4e",
   "metadata": {},
   "outputs": [
    {
     "name": "stdout",
     "output_type": "stream",
     "text": [
      "[{'name': 'Bob', 'age': 22}, {'name': 'Alice', 'age': 25}]\n"
     ]
    }
   ],
   "source": [
    "# Write a function to sort a list of dictionaries by a key.\n",
    "\n",
    "data= [{'name': 'Alice', 'age': 25}, {'name': 'Bob', 'age': 22}] #sample input\n",
    "\n",
    "def bykey(dic):\n",
    "    return sorted(dic,key=lambda x:x['age'] )\n",
    "\n",
    "print(bykey(data))"
   ]
  },
  {
   "cell_type": "markdown",
   "id": "1d1ff55e-3fe5-4c3f-8f84-7c0b2fbbec3d",
   "metadata": {},
   "source": [
    "***Q14 Word Filtering and Sorting:***"
   ]
  },
  {
   "cell_type": "code",
   "execution_count": 480,
   "id": "37f9c268-403d-4c09-a9d6-f9b225fd17a4",
   "metadata": {},
   "outputs": [
    {
     "name": "stdout",
     "output_type": "stream",
     "text": [
      "['This', 'example', 'notebook', 'string']\n"
     ]
    }
   ],
   "source": [
    "# Write a program to\n",
    "# Split a string into a list of words.\n",
    "# Remove all words that are shorter than 4 characters.\n",
    "# Sort the remaining words alphabetically.\n",
    "\n",
    "k=\"This is an example of a string in my notebook\"\n",
    "splitlist=k.split()\n",
    "ans=[]\n",
    "for i in splitlist:\n",
    "    if len(i)>=4:\n",
    "        ans.append(i)\n",
    "print(sorted(ans))"
   ]
  },
  {
   "cell_type": "code",
   "execution_count": 482,
   "id": "6ca5a08c-e2b2-4d43-8f85-3fba4723badb",
   "metadata": {},
   "outputs": [
    {
     "data": {
      "image/png": "[encoded data removed]",
      "text/plain": [
       "<Figure size 640x480 with 1 Axes>"
      ]
     },
     "metadata": {},
     "output_type": "display_data"
    }
   ],
   "source": [
    "# Visualize the word lengths using a bar chart.\n",
    "word_len={}\n",
    "\n",
    "for i in splitlist :\n",
    "    word_len[i]=len(i)\n",
    "\n",
    "plt.bar(word_len.keys(),word_len.values(),edgecolor=\"red\",color=\"blue\")\n",
    "plt.xlabel(\"Word\")\n",
    "plt.ylabel(\"Word Length\")\n",
    "plt.show()\n"
   ]
  },
  {
   "cell_type": "markdown",
   "id": "52e0444a-6ad8-498a-b884-d94185e692a3",
   "metadata": {},
   "source": [
    "***Q15 Anagram Finder***"
   ]
  },
  {
   "cell_type": "code",
   "execution_count": 485,
   "id": "2e740d24-87d2-4270-8835-ba6a8c5cc0cd",
   "metadata": {},
   "outputs": [
    {
     "name": "stdout",
     "output_type": "stream",
     "text": [
      "['enlist', 'inlets']\n"
     ]
    }
   ],
   "source": [
    "# Write a Python function to find all anagrams of a word in a given list.\n",
    "words = [\"enlist\", \"google\", \"inlets\", \"banana\"]\n",
    "word=\"listen\"\n",
    "ans=[]\n",
    "def isanagram(k,word):\n",
    "    if len(k)!=len(word):\n",
    "        return False\n",
    "    else:\n",
    "        for i in k:\n",
    "            if i in word:\n",
    "                continue\n",
    "            else:\n",
    "                return False\n",
    "        return True   \n",
    "\n",
    "for i in words:\n",
    "    if isanagram(i,word):\n",
    "        ans.append(i)\n",
    "print(ans)\n",
    "        "
   ]
  },
  {
   "cell_type": "markdown",
   "id": "091597a3-3718-4f8e-a5c5-dfa6172bb275",
   "metadata": {},
   "source": [
    "***Q16 Set Operations***"
   ]
  },
  {
   "cell_type": "code",
   "execution_count": 511,
   "id": "1c6981e2-b9f0-4374-92b3-d4b3aa53b995",
   "metadata": {},
   "outputs": [
    {
     "name": "stdout",
     "output_type": "stream",
     "text": [
      "intersection set: {1, 3, 5, 9, 12}\n",
      "union set: {1, 2, 3, 4, 5, 7, 9, 12, 14, 15, 16, 19}\n",
      "symmetric difference: {2, 4, 7, 14, 15, 16, 19}\n"
     ]
    }
   ],
   "source": [
    "# Given two lists, write Python code to find their intersection, union, and symmetric difference.\n",
    "list1=[1,3,5,7,9,12,14,15,16,19]\n",
    "list2=[1,2,3,4,5,9,12]\n",
    "\n",
    "set1=set(list1)\n",
    "set2=set(list2)\n",
    "print(f\"intersection set: {set1.intersection(set2)}\")\n",
    "print(f\"union set: {set1.union(set2)}\")\n",
    "print(f\"symmetric difference: {set1.symmetric_difference(set2)}\")"
   ]
  },
  {
   "cell_type": "code",
   "execution_count": 513,
   "id": "94abb83e-a422-40b7-887f-1bcaf17ed568",
   "metadata": {},
   "outputs": [
    {
     "data": {
      "image/png": "[encoded data removed]",
      "text/plain": [
       "<Figure size 640x480 with 1 Axes>"
      ]
     },
     "metadata": {},
     "output_type": "display_data"
    }
   ],
   "source": [
    "# Visualize the results using Venn diagrams.\n",
    "\n",
    "from matplotlib_venn import venn2\n",
    "\n",
    "venn=venn2([set1,set2],(\"list1\",\"list2\"))\n",
    "venn.get_label_by_id(\"10\").set_text(\"A\")\n",
    "venn.get_label_by_id(\"01\").set_text(\"B\")\n",
    "venn.get_label_by_id(\"11\").set_text(\"Intersection\")\n",
    "plt.title(\"Venn diagramm \")\n",
    "plt.show()\n"
   ]
  },
  {
   "cell_type": "markdown",
   "id": "726a1a9f-76d6-4be7-a313-a95e59f2b206",
   "metadata": {},
   "source": [
    "***Q17 File Operations***"
   ]
  },
  {
   "cell_type": "code",
   "execution_count": 516,
   "id": "3f92dc32-55f2-47b7-83c6-9fc4b67ef916",
   "metadata": {},
   "outputs": [
    {
     "name": "stdout",
     "output_type": "stream",
     "text": [
      "The sum of the list is: 55\n"
     ]
    }
   ],
   "source": [
    "# Write Python code to:\n",
    "# Create a text file.\n",
    "# Write a list of numbers to the file (one per line).\n",
    "# Read the file and compute their sum.\n",
    "\n",
    "with open(\"example.txt\",\"w+\") as f :\n",
    "    examplelist=[1,2,3,4,5,6,7,8,9,10]\n",
    "    for i in examplelist:\n",
    "        f.write(f\"{i}\"+\"\\n\")\n",
    "    \n",
    "    f.seek(0)\n",
    "    s=0\n",
    "    for j in range(1, 11):\n",
    "        s+=int(f.readline())\n",
    "    print(f\"The sum of the list is: {s}\")\n",
    "    \n",
    "        "
   ]
  },
  {
   "cell_type": "markdown",
   "id": "26aa9c93-e9ec-4eb1-acad-8762f3ccbe1d",
   "metadata": {},
   "source": [
    "***Q18 Word Count and Frequency***"
   ]
  },
  {
   "cell_type": "code",
   "execution_count": 519,
   "id": "9bf5c05e-2537-4fd3-861a-ed98bcff7563",
   "metadata": {},
   "outputs": [
    {
     "name": "stdout",
     "output_type": "stream",
     "text": [
      "There are 24 no. of words\n",
      "The most frequent word is test\n"
     ]
    }
   ],
   "source": [
    "# Write a program to:\n",
    "# Read a file and count the number of words in it.\n",
    "# Find the most frequent word.\n",
    "\n",
    "\n",
    "with open(\"wordcount.txt\",\"w\") as f :\n",
    "    f.write(\"Hello world! This is a test file.\\nThis file is just a test file.\\nTest the word counting and word frequency.\\nHello test world!\")\n",
    "\n",
    "\n",
    "#i made a example file named wordcount as wrote some text to it, no will read it and find the most frequent word\n",
    "word_dic={}\n",
    "with open(\"wordcount.txt\",\"r\") as f:\n",
    "    no_of_words=0\n",
    "    for i in f:\n",
    "        for j in i.split():\n",
    "            if j in word_dic:\n",
    "                word_dic[j]+=1\n",
    "            else:\n",
    "                word_dic[j]=1\n",
    "                \n",
    "            no_of_words+=1\n",
    "    print(f\"There are {no_of_words} no. of words\")\n",
    "print(f\"The most frequent word is {max(word_dic,key=word_dic.get)}\")\n",
    "            "
   ]
  },
  {
   "cell_type": "code",
   "execution_count": 521,
   "id": "934838f5-3bf9-4d95-b78b-d8afb06d923b",
   "metadata": {},
   "outputs": [
    {
     "data": {
      "image/png": "[encoded data removed]",
      "text/plain": [
       "<Figure size 640x480 with 1 Axes>"
      ]
     },
     "metadata": {},
     "output_type": "display_data"
    }
   ],
   "source": [
    "# Visualize the word frequencies using a bar chart.\n",
    "plt.bar(word_dic.keys(),word_dic.values(),edgecolor=\"purple\",color=\"pink\")\n",
    "plt.xticks(rotation=45, ha='right')  # needed to do this otherwise the words werent fitting \n",
    "plt.show()"
   ]
  },
  {
   "cell_type": "markdown",
   "id": "32f5de5f-a166-4b48-bbff-a5406359d319",
   "metadata": {},
   "source": [
    "***Q19 Random Number Generation***"
   ]
  },
  {
   "cell_type": "code",
   "execution_count": 524,
   "id": "a5b4e550-033c-4bd7-a788-bde2c1124852",
   "metadata": {},
   "outputs": [
    {
     "name": "stdout",
     "output_type": "stream",
     "text": [
      "The mean is 26.18\n"
     ]
    }
   ],
   "source": [
    "# Write a Python program to:\n",
    "# Generate 100 random integers between 1 and 50.\n",
    "# Save them in a text file, one per line.\n",
    "# Read the file and compute the mean of the numbers\n",
    "\n",
    "import random \n",
    "\n",
    "with open(\"Random.txt\",\"w+\") as f :\n",
    "    for i in range(100):\n",
    "        if i<99:\n",
    "            f.write(str(random.randint(1,51))+\"\\n\")\n",
    "        else:                                               #I did this to not get a blank line after the file \n",
    "            f.write(str(random.randint(1,51)))\n",
    "    f.seek(0)\n",
    "    sum_of=0\n",
    "    req_nums=[]\n",
    "    for j in f:\n",
    "        req_nums.append(int(j))\n",
    "        sum_of+=int(j)\n",
    "    print(f\"The mean is {sum_of/100}\")"
   ]
  },
  {
   "cell_type": "code",
   "execution_count": 526,
   "id": "841bf354-351c-4345-9a35-b3a9d89cee4d",
   "metadata": {},
   "outputs": [
    {
     "data": {
      "image/png": "[encoded data removed]",
      "text/plain": [
       "<Figure size 640x480 with 1 Axes>"
      ]
     },
     "metadata": {},
     "output_type": "display_data"
    }
   ],
   "source": [
    "# Visualize the distribution of the numbers using a histogram.\n",
    "plt.hist(req_nums,edgecolor=\"red\",color=\"orange\")\n",
    "plt.ylabel(\"Frequency\")\n",
    "plt.xlabel(\"Numbers\")\n",
    "plt.show()"
   ]
  },
  {
   "cell_type": "markdown",
   "id": "87d7a8cf-477b-4bf4-88aa-772ebb862595",
   "metadata": {},
   "source": [
    "***Q20 CSV File Operations***"
   ]
  },
  {
   "cell_type": "code",
   "execution_count": 529,
   "id": "e94421e0-fce0-4fbb-b419-d10f17d87102",
   "metadata": {},
   "outputs": [
    {
     "name": "stdout",
     "output_type": "stream",
     "text": [
      "The sum of values in the column \"Amount\" is: 801.6\n"
     ]
    }
   ],
   "source": [
    "# Write Python code to read a CSV file and compute the sum of values in a specific column\n",
    "\n",
    "import csv\n",
    "column_name = 'Amount'  \n",
    "final_sum=0\n",
    "amount=[]\n",
    "with open(\"test.csv\",\"r\", newline='') as f:   #I am using a test csv file \n",
    "    csv_reader = csv.DictReader(f)\n",
    "    for row in csv_reader:\n",
    "        try:\n",
    "            final_sum += float(row[column_name])\n",
    "            amount.append(float(row[column_name]))\n",
    "        except ValueError:\n",
    "            continue                                #this is to handle rows where the value is not a valid number\n",
    "\n",
    "print(f'The sum of values in the column \"{column_name}\" is: {final_sum}')\n"
   ]
  },
  {
   "cell_type": "code",
   "execution_count": 531,
   "id": "eb861b79-db7c-41a5-92ba-b2cadd1792b8",
   "metadata": {},
   "outputs": [
    {
     "data": {
      "image/png": "[encoded data removed]",
      "text/plain": [
       "<Figure size 640x480 with 1 Axes>"
      ]
     },
     "metadata": {},
     "output_type": "display_data"
    }
   ],
   "source": [
    "# Visualize the data using a line plot.\n",
    "plt.plot(amount,\"o-\",ms=8,color=\"red\")\n",
    "plt.show()"
   ]
  },
  {
   "cell_type": "markdown",
   "id": "48ac8d84-7da1-47ab-b3b0-e97a6aa0a2a2",
   "metadata": {},
   "source": [
    "***Q21 Basic Statistics***\n"
   ]
  },
  {
   "cell_type": "code",
   "execution_count": 534,
   "id": "b1c3aa3c-cd81-442b-bb68-99928973b696",
   "metadata": {},
   "outputs": [
    {
     "name": "stdout",
     "output_type": "stream",
     "text": [
      "mean: 6.142857142857143\n",
      "median: 7.0\n",
      "mode: 1\n",
      "standard deviation: 3.0438965360946453\n"
     ]
    }
   ],
   "source": [
    "# Write Python code to calculate:\n",
    "# Mean, median, mode, and standard deviation of a list of numbers.\n",
    "\n",
    "import numpy as np \n",
    "import pandas as pd \n",
    "\n",
    "testlist=[1,3,5,7,8,9,10]\n",
    "testarray=np.array(testlist)\n",
    "print(f\"mean: {testarray.mean()}\")\n",
    "print(f\"median: {np.median(testarray)}\")\n",
    "print(f\"mode: {pd.Series(testlist).mode()[0]}\")\n",
    "print(f\"standard deviation: {testarray.std()}\")"
   ]
  },
  {
   "cell_type": "code",
   "execution_count": 536,
   "id": "94211435-a6c8-4de7-bb65-0d2a9f14311c",
   "metadata": {},
   "outputs": [
    {
     "data": {
      "image/png": "[encoded data removed]",
      "text/plain": [
       "<Figure size 640x480 with 1 Axes>"
      ]
     },
     "metadata": {},
     "output_type": "display_data"
    }
   ],
   "source": [
    "# Visualize the data using a box plot\n",
    "plt.boxplot(testarray,showmeans=True,patch_artist=True)\n",
    "plt.title(\"Box plot of the test array\")\n",
    "plt.ylabel(\"Numbers\")\n",
    "plt.show()\n"
   ]
  },
  {
   "cell_type": "markdown",
   "id": "c480a827-95d1-42a2-9b6e-3e8335974377",
   "metadata": {},
   "source": [
    "***Q22 Normalization***\n"
   ]
  },
  {
   "cell_type": "code",
   "execution_count": 539,
   "id": "9a876524-5926-4432-b0a1-d33bce2ebe3e",
   "metadata": {},
   "outputs": [
    {
     "name": "stdout",
     "output_type": "stream",
     "text": [
      "Normalized list: [0.0, 0.02702702702702703, 0.05405405405405406, 0.1891891891891892, 0.24324324324324326, 0.32432432432432434, 0.43243243243243246, 0.6756756756756757, 1.0]\n"
     ]
    }
   ],
   "source": [
    "# Write a Python function to normalize a list of numbers to a range of 0 to 1.\n",
    "\n",
    "l=[3,4,5,10,12,15,19,28,40] #this is the example list which i took\n",
    "\n",
    "def normalize_to_range(data):\n",
    "    if not data:        # This is to ensure the list is not empty\n",
    "        return []\n",
    "    minv = min(data)\n",
    "    maxv = max(data)\n",
    "    if minv == maxv:          #keeping in mind the case where all values are same\n",
    "        return[0]*len(data)  \n",
    "\n",
    "    normalized_data=[(x - minv) / (maxv - minv) for x in data]\n",
    "    return normalized_data\n",
    "\n",
    "normalized_list=normalize_to_range(l)\n",
    "print(f\"Normalized list: {normalized_list}\")"
   ]
  },
  {
   "cell_type": "code",
   "execution_count": 541,
   "id": "889dc395-f3cc-4273-8cf3-94c540955039",
   "metadata": {},
   "outputs": [
    {
     "data": {
      "image/png": "[encoded data removed]",
      "text/plain": [
       "<Figure size 640x480 with 1 Axes>"
      ]
     },
     "metadata": {},
     "output_type": "display_data"
    }
   ],
   "source": [
    "# Visualize the normalized data using a line plot.\n",
    "\n",
    "plt.plot(normalized_list,\"o-\",ms=8)\n",
    "plt.title(\"Line plot of the normalized list\")\n",
    "plt.show()"
   ]
  },
  {
   "cell_type": "markdown",
   "id": "6796b5b3-4088-4ba5-9112-8bfcc93b4ee2",
   "metadata": {},
   "source": [
    "***Q23 Even or Odd***\n"
   ]
  },
  {
   "cell_type": "code",
   "execution_count": 339,
   "id": "c4b10ff7-1d28-4fbe-a5ef-51d68ad2064e",
   "metadata": {},
   "outputs": [
    {
     "name": "stdin",
     "output_type": "stream",
     "text": [
      "Enter the number you want to find is even or odd:  69\n"
     ]
    },
    {
     "name": "stdout",
     "output_type": "stream",
     "text": [
      "The number is odd\n"
     ]
    }
   ],
   "source": [
    "# Write a Python program that takes an integer input from the user and prints whether the number is even or odd. \n",
    "\n",
    "n=int(input(\"Enter the number you want to find is even or odd: \"))\n",
    "\n",
    "if n%2==0:\n",
    "    print(\"The number is even\")\n",
    "else:\n",
    "    print(\"The number is odd\")"
   ]
  },
  {
   "cell_type": "markdown",
   "id": "3fdbf575-5b28-4ecf-a26d-53cd00573fc1",
   "metadata": {},
   "source": [
    "***Q24 Grade Calculator***\n"
   ]
  },
  {
   "cell_type": "code",
   "execution_count": 341,
   "id": "fb93c699-18ae-4f1f-a34e-5de77b494bf8",
   "metadata": {},
   "outputs": [
    {
     "name": "stdin",
     "output_type": "stream",
     "text": [
      "Enter your numerical grade:  56\n"
     ]
    },
    {
     "name": "stdout",
     "output_type": "stream",
     "text": [
      "Your letter grade is E\n"
     ]
    }
   ],
   "source": [
    "# Write a Python program that takes a numerical grade (0-100) as input and prints the corresponding letter grade (A, B, C, D, F).\n",
    "\n",
    "n=int(input(\"Enter your numerical grade: \"))\n",
    "\n",
    "if n>=90:\n",
    "    grade=\"A\"\n",
    "elif n>=80:\n",
    "    grade=\"B\"\n",
    "elif n>=70:\n",
    "    grade=\"C\"\n",
    "elif n>=60:\n",
    "    grade=\"D\"\n",
    "elif n>=50:\n",
    "    grade=\"E\"\n",
    "else :\n",
    "    grade=\"F\"\n",
    "\n",
    "print(f\"Your letter grade is {grade}\")\n",
    "\n"
   ]
  },
  {
   "cell_type": "markdown",
   "id": "b62a631d-e818-4615-b2e9-1a6b352a78d8",
   "metadata": {},
   "source": [
    "***Q25 Leap Year Checker***"
   ]
  },
  {
   "cell_type": "code",
   "execution_count": 343,
   "id": "78756591-67b3-4433-9033-2647ce98712a",
   "metadata": {},
   "outputs": [
    {
     "name": "stdin",
     "output_type": "stream",
     "text": [
      "Enter your year: 2034\n"
     ]
    },
    {
     "name": "stdout",
     "output_type": "stream",
     "text": [
      "Your year is not a leap year\n"
     ]
    }
   ],
   "source": [
    "# Write a Python program that takes a year as input and checks if it is a leap year.\n",
    "\n",
    "year=int(input(\"Enter your year:\"))\n",
    "\n",
    "if year%400==0:\n",
    "    print(\"Your year is a Leap year\")\n",
    "elif year%4==0:\n",
    "    print(\"Your year is a Leap year\")    \n",
    "else:\n",
    "    print(\"Your year is not a leap year\")"
   ]
  },
  {
   "cell_type": "code",
   "execution_count": null,
   "id": "7f21f05e-25fd-4ec9-a747-74ff9036e2d6",
   "metadata": {},
   "outputs": [],
   "source": []
  }
 ],
 "metadata": {
  "kernelspec": {
   "display_name": "Python 3 (ipykernel)",
   "language": "python",
   "name": "python3"
  },
  "language_info": {
   "codemirror_mode": {
    "name": "ipython",
    "version": 3
   },
   "file_extension": ".py",
   "mimetype": "text/x-python",
   "name": "python",
   "nbconvert_exporter": "python",
   "pygments_lexer": "ipython3",
   "version": "3.12.7"
  }
 },
 "nbformat": 4,
 "nbformat_minor": 5
}
